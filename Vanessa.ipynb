{
 "cells": [
  {
   "cell_type": "markdown",
   "id": "c335b740-3366-489e-ae30-94361d5596d7",
   "metadata": {},
   "source": [
    "# Creating a column to calculate the duration time of the fires"
   ]
  },
  {
   "cell_type": "markdown",
   "id": "609b5bab-2ba1-42e5-babd-14456acb6fb1",
   "metadata": {},
   "source": [
    "# - To do so we start by importing the necessary libraries\n",
    "# - You will then import the dataset "
   ]
  },
  {
   "cell_type": "code",
   "execution_count": 3,
   "id": "c2a5bc10-d568-44b5-b326-c5cbc1d62b75",
   "metadata": {},
   "outputs": [],
   "source": [
    "import pandas as pd\n",
    "import numpy as np\n",
    "import matplotlib.pyplot as plt\n",
    "import seaborn as sns\n",
    "from datetime import timedelta"
   ]
  },
  {
   "cell_type": "code",
   "execution_count": 4,
   "id": "15357691-cfd8-42fc-b129-22a618f5d1dc",
   "metadata": {},
   "outputs": [],
   "source": [
    "complete_df =pd.read_csv(\"Cleaned Data/california_wildfire_data_cleaned.csv\")"
   ]
  },
  {
   "cell_type": "code",
   "execution_count": 5,
   "id": "034acd94-6b7d-4b58-9fe7-1c6e426dfb43",
   "metadata": {},
   "outputs": [
    {
     "data": {
      "text/plain": [
       "2779"
      ]
     },
     "execution_count": 5,
     "metadata": {},
     "output_type": "execute_result"
    }
   ],
   "source": [
    "len(complete_df)"
   ]
  },
  {
   "cell_type": "code",
   "execution_count": 6,
   "id": "f6f7ba92-e1b8-42be-8d6f-aafb016000c9",
   "metadata": {},
   "outputs": [
    {
     "data": {
      "text/plain": [
       "Index(['Unnamed: 0', 'Incident Name', 'County', 'Administrative Unit',\n",
       "       'Acres Burned', 'Crews Involved', 'Dozers', 'Engines', 'Fatalities',\n",
       "       'Helicopters', 'Injuries', 'Personnel Involved', 'Structures Damaged',\n",
       "       'Structures Destroyed', 'Structures Threatened', 'Water Tenders',\n",
       "       'Fire Started', 'Fire Extinguished', 'Longitude', 'Latitude',\n",
       "       'Incident ID'],\n",
       "      dtype='object')"
      ]
     },
     "execution_count": 6,
     "metadata": {},
     "output_type": "execute_result"
    }
   ],
   "source": [
    "complete_df.columns"
   ]
  },
  {
   "cell_type": "code",
   "execution_count": 7,
   "id": "c65c12b4-6f79-481d-9019-4a631db1f2ea",
   "metadata": {},
   "outputs": [
    {
     "data": {
      "text/plain": [
       "Unnamed: 0                 int64\n",
       "Incident Name             object\n",
       "County                    object\n",
       "Administrative Unit       object\n",
       "Acres Burned             float64\n",
       "Crews Involved           float64\n",
       "Dozers                   float64\n",
       "Engines                  float64\n",
       "Fatalities               float64\n",
       "Helicopters              float64\n",
       "Injuries                 float64\n",
       "Personnel Involved       float64\n",
       "Structures Damaged       float64\n",
       "Structures Destroyed     float64\n",
       "Structures Threatened    float64\n",
       "Water Tenders            float64\n",
       "Fire Started              object\n",
       "Fire Extinguished         object\n",
       "Longitude                float64\n",
       "Latitude                 float64\n",
       "Incident ID               object\n",
       "dtype: object"
      ]
     },
     "execution_count": 7,
     "metadata": {},
     "output_type": "execute_result"
    }
   ],
   "source": [
    "complete_df.dtypes"
   ]
  },
  {
   "cell_type": "markdown",
   "id": "358bc458-2bb8-46c2-a753-2c01e7828fd9",
   "metadata": {},
   "source": [
    "##### After finding that the data in the column fire started and extinguished were listed as objects;\n",
    "##### convert the two columns to datetime format to get numerical values\n",
    "##### Subtract the Fire extinguished from Fire Started to get the Duration values"
   ]
  },
  {
   "cell_type": "code",
   "execution_count": 9,
   "id": "eb8d56f4-ab04-4709-90d6-773292fa9e5c",
   "metadata": {},
   "outputs": [],
   "source": [
    "complete_df[\"Fire Started\"] = pd.to_datetime(complete_df[\"Fire Started\"], format =\"ISO8601\", utc= True)"
   ]
  },
  {
   "cell_type": "code",
   "execution_count": 10,
   "id": "e93ad3ab-f45d-4850-9dac-1a6c2a6a2dce",
   "metadata": {},
   "outputs": [],
   "source": [
    "complete_df[\"Fire Extinguished\"]= pd.to_datetime(complete_df[\"Fire Extinguished\"],format =\"ISO8601\", utc= True)"
   ]
  },
  {
   "cell_type": "code",
   "execution_count": 11,
   "id": "33f87e84-5df5-4477-bf7f-95c47d9cd747",
   "metadata": {},
   "outputs": [],
   "source": [
    "complete_df[\"Fire Duration\"]= complete_df[\"Fire Extinguished\"] - complete_df[\"Fire Started\"]"
   ]
  },
  {
   "cell_type": "code",
   "execution_count": 12,
   "id": "d6e11ff5-62f8-4329-83cd-ba0b00ab631c",
   "metadata": {},
   "outputs": [
    {
     "data": {
      "text/html": [
       "<div>\n",
       "<style scoped>\n",
       "    .dataframe tbody tr th:only-of-type {\n",
       "        vertical-align: middle;\n",
       "    }\n",
       "\n",
       "    .dataframe tbody tr th {\n",
       "        vertical-align: top;\n",
       "    }\n",
       "\n",
       "    .dataframe thead th {\n",
       "        text-align: right;\n",
       "    }\n",
       "</style>\n",
       "<table border=\"1\" class=\"dataframe\">\n",
       "  <thead>\n",
       "    <tr style=\"text-align: right;\">\n",
       "      <th></th>\n",
       "      <th>Unnamed: 0</th>\n",
       "      <th>Incident Name</th>\n",
       "      <th>County</th>\n",
       "      <th>Administrative Unit</th>\n",
       "      <th>Acres Burned</th>\n",
       "      <th>Crews Involved</th>\n",
       "      <th>Dozers</th>\n",
       "      <th>Engines</th>\n",
       "      <th>Fatalities</th>\n",
       "      <th>Helicopters</th>\n",
       "      <th>...</th>\n",
       "      <th>Structures Damaged</th>\n",
       "      <th>Structures Destroyed</th>\n",
       "      <th>Structures Threatened</th>\n",
       "      <th>Water Tenders</th>\n",
       "      <th>Fire Started</th>\n",
       "      <th>Fire Extinguished</th>\n",
       "      <th>Longitude</th>\n",
       "      <th>Latitude</th>\n",
       "      <th>Incident ID</th>\n",
       "      <th>Fire Duration</th>\n",
       "    </tr>\n",
       "  </thead>\n",
       "  <tbody>\n",
       "    <tr>\n",
       "      <th>0</th>\n",
       "      <td>0</td>\n",
       "      <td>River Fire</td>\n",
       "      <td>Inyo</td>\n",
       "      <td>CAL FIRE San Bernardino Unit</td>\n",
       "      <td>407.0</td>\n",
       "      <td>25.0</td>\n",
       "      <td>25.0</td>\n",
       "      <td>25.0</td>\n",
       "      <td>0.0</td>\n",
       "      <td>0.0</td>\n",
       "      <td>...</td>\n",
       "      <td>0.0</td>\n",
       "      <td>0.0</td>\n",
       "      <td>0.0</td>\n",
       "      <td>25.0</td>\n",
       "      <td>2013-02-24 08:16:00+00:00</td>\n",
       "      <td>2013-02-28 20:00:00+00:00</td>\n",
       "      <td>-118.016510</td>\n",
       "      <td>36.602575</td>\n",
       "      <td>094719ba-a47b-4abb-9ec5-a506b2b9fd23</td>\n",
       "      <td>4 days 11:44:00</td>\n",
       "    </tr>\n",
       "    <tr>\n",
       "      <th>1</th>\n",
       "      <td>1</td>\n",
       "      <td>Fawnskin Fire</td>\n",
       "      <td>San Bernardino</td>\n",
       "      <td>San Bernardino National Forest</td>\n",
       "      <td>30.0</td>\n",
       "      <td>0.0</td>\n",
       "      <td>0.0</td>\n",
       "      <td>0.0</td>\n",
       "      <td>0.0</td>\n",
       "      <td>0.0</td>\n",
       "      <td>...</td>\n",
       "      <td>0.0</td>\n",
       "      <td>0.0</td>\n",
       "      <td>0.0</td>\n",
       "      <td>0.0</td>\n",
       "      <td>2013-04-20 17:30:00+00:00</td>\n",
       "      <td>2013-04-22 09:00:00+00:00</td>\n",
       "      <td>-116.941311</td>\n",
       "      <td>34.288877</td>\n",
       "      <td>58f89ff8-bd3e-4355-b1c0-8fa05c747d3f</td>\n",
       "      <td>1 days 15:30:00</td>\n",
       "    </tr>\n",
       "    <tr>\n",
       "      <th>2</th>\n",
       "      <td>2</td>\n",
       "      <td>Gold Fire</td>\n",
       "      <td>Madera</td>\n",
       "      <td>CAL FIRE Madera-Mariposa-Merced Unit</td>\n",
       "      <td>274.0</td>\n",
       "      <td>0.0</td>\n",
       "      <td>0.0</td>\n",
       "      <td>0.0</td>\n",
       "      <td>0.0</td>\n",
       "      <td>0.0</td>\n",
       "      <td>...</td>\n",
       "      <td>0.0</td>\n",
       "      <td>0.0</td>\n",
       "      <td>0.0</td>\n",
       "      <td>0.0</td>\n",
       "      <td>2013-04-30 12:59:00+00:00</td>\n",
       "      <td>2013-05-01 07:00:00+00:00</td>\n",
       "      <td>-119.635004</td>\n",
       "      <td>37.116295</td>\n",
       "      <td>357ffc13-bef9-48eb-810f-c5de851972eb</td>\n",
       "      <td>0 days 18:01:00</td>\n",
       "    </tr>\n",
       "    <tr>\n",
       "      <th>3</th>\n",
       "      <td>3</td>\n",
       "      <td>Silverado Fire</td>\n",
       "      <td>Napa</td>\n",
       "      <td>CAL FIRE Sonoma-Lake-Napa Unit</td>\n",
       "      <td>75.0</td>\n",
       "      <td>0.0</td>\n",
       "      <td>0.0</td>\n",
       "      <td>0.0</td>\n",
       "      <td>0.0</td>\n",
       "      <td>0.0</td>\n",
       "      <td>...</td>\n",
       "      <td>0.0</td>\n",
       "      <td>0.0</td>\n",
       "      <td>0.0</td>\n",
       "      <td>0.0</td>\n",
       "      <td>2013-04-30 23:44:00+00:00</td>\n",
       "      <td>2013-05-01 17:15:00+00:00</td>\n",
       "      <td>-122.350844</td>\n",
       "      <td>38.441792</td>\n",
       "      <td>d8d1c943-7b5d-4885-9043-f41075d6eded</td>\n",
       "      <td>0 days 17:31:00</td>\n",
       "    </tr>\n",
       "    <tr>\n",
       "      <th>4</th>\n",
       "      <td>4</td>\n",
       "      <td>Yellow Fire</td>\n",
       "      <td>Sonoma</td>\n",
       "      <td>CAL FIRE Sonoma-Lake-Napa Unit</td>\n",
       "      <td>125.0</td>\n",
       "      <td>9.0</td>\n",
       "      <td>5.0</td>\n",
       "      <td>17.0</td>\n",
       "      <td>0.0</td>\n",
       "      <td>5.0</td>\n",
       "      <td>...</td>\n",
       "      <td>0.0</td>\n",
       "      <td>0.0</td>\n",
       "      <td>0.0</td>\n",
       "      <td>5.0</td>\n",
       "      <td>2013-05-01 02:01:00+00:00</td>\n",
       "      <td>2013-05-03 06:15:00+00:00</td>\n",
       "      <td>-122.655616</td>\n",
       "      <td>38.638828</td>\n",
       "      <td>64e4f81e-d872-44c4-ba8d-111fa77124ba</td>\n",
       "      <td>2 days 04:14:00</td>\n",
       "    </tr>\n",
       "  </tbody>\n",
       "</table>\n",
       "<p>5 rows × 22 columns</p>\n",
       "</div>"
      ],
      "text/plain": [
       "   Unnamed: 0   Incident Name          County  \\\n",
       "0           0      River Fire            Inyo   \n",
       "1           1   Fawnskin Fire  San Bernardino   \n",
       "2           2       Gold Fire          Madera   \n",
       "3           3  Silverado Fire            Napa   \n",
       "4           4     Yellow Fire          Sonoma   \n",
       "\n",
       "                    Administrative Unit  Acres Burned  Crews Involved  Dozers  \\\n",
       "0          CAL FIRE San Bernardino Unit         407.0            25.0    25.0   \n",
       "1        San Bernardino National Forest          30.0             0.0     0.0   \n",
       "2  CAL FIRE Madera-Mariposa-Merced Unit         274.0             0.0     0.0   \n",
       "3        CAL FIRE Sonoma-Lake-Napa Unit          75.0             0.0     0.0   \n",
       "4        CAL FIRE Sonoma-Lake-Napa Unit         125.0             9.0     5.0   \n",
       "\n",
       "   Engines  Fatalities  Helicopters  ...  Structures Damaged  \\\n",
       "0     25.0         0.0          0.0  ...                 0.0   \n",
       "1      0.0         0.0          0.0  ...                 0.0   \n",
       "2      0.0         0.0          0.0  ...                 0.0   \n",
       "3      0.0         0.0          0.0  ...                 0.0   \n",
       "4     17.0         0.0          5.0  ...                 0.0   \n",
       "\n",
       "   Structures Destroyed  Structures Threatened  Water Tenders  \\\n",
       "0                   0.0                    0.0           25.0   \n",
       "1                   0.0                    0.0            0.0   \n",
       "2                   0.0                    0.0            0.0   \n",
       "3                   0.0                    0.0            0.0   \n",
       "4                   0.0                    0.0            5.0   \n",
       "\n",
       "               Fire Started         Fire Extinguished   Longitude   Latitude  \\\n",
       "0 2013-02-24 08:16:00+00:00 2013-02-28 20:00:00+00:00 -118.016510  36.602575   \n",
       "1 2013-04-20 17:30:00+00:00 2013-04-22 09:00:00+00:00 -116.941311  34.288877   \n",
       "2 2013-04-30 12:59:00+00:00 2013-05-01 07:00:00+00:00 -119.635004  37.116295   \n",
       "3 2013-04-30 23:44:00+00:00 2013-05-01 17:15:00+00:00 -122.350844  38.441792   \n",
       "4 2013-05-01 02:01:00+00:00 2013-05-03 06:15:00+00:00 -122.655616  38.638828   \n",
       "\n",
       "                            Incident ID   Fire Duration  \n",
       "0  094719ba-a47b-4abb-9ec5-a506b2b9fd23 4 days 11:44:00  \n",
       "1  58f89ff8-bd3e-4355-b1c0-8fa05c747d3f 1 days 15:30:00  \n",
       "2  357ffc13-bef9-48eb-810f-c5de851972eb 0 days 18:01:00  \n",
       "3  d8d1c943-7b5d-4885-9043-f41075d6eded 0 days 17:31:00  \n",
       "4  64e4f81e-d872-44c4-ba8d-111fa77124ba 2 days 04:14:00  \n",
       "\n",
       "[5 rows x 22 columns]"
      ]
     },
     "execution_count": 12,
     "metadata": {},
     "output_type": "execute_result"
    }
   ],
   "source": [
    "complete_df.head(5)"
   ]
  },
  {
   "cell_type": "markdown",
   "id": "514d5558-b9ab-417f-b8bc-a79aeb319a6d",
   "metadata": {},
   "source": [
    "##### The minimum fire days is negative which shows some information is inacurate.\n",
    "##### By sorting out the incomplete information, it allows us to get a logical understanding of our data"
   ]
  },
  {
   "cell_type": "code",
   "execution_count": null,
   "id": "8d19a340-fcff-45e9-800c-4fa46c5c71ff",
   "metadata": {},
   "outputs": [],
   "source": []
  },
  {
   "cell_type": "code",
   "execution_count": 14,
   "id": "13ac6891-3bb5-44ba-8fc1-b98b99563185",
   "metadata": {},
   "outputs": [
    {
     "data": {
      "text/plain": [
       "count                          2779\n",
       "mean     48 days 20:33:30.756747031\n",
       "std      78 days 03:21:40.220519839\n",
       "min             -195 days +14:53:07\n",
       "25%                 1 days 22:44:08\n",
       "50%                 3 days 08:57:09\n",
       "75%                84 days 12:34:00\n",
       "max               391 days 19:16:34\n",
       "Name: Fire Duration, dtype: object"
      ]
     },
     "execution_count": 14,
     "metadata": {},
     "output_type": "execute_result"
    }
   ],
   "source": [
    "complete_df[\"Fire Duration\"].describe()"
   ]
  },
  {
   "cell_type": "code",
   "execution_count": 15,
   "id": "d5545efe-c4cc-4090-8cfe-52c86e58c740",
   "metadata": {},
   "outputs": [],
   "source": [
    "errortime = complete_df[complete_df[\"Fire Duration\"] <'0 days +00:00:00']"
   ]
  },
  {
   "cell_type": "code",
   "execution_count": 16,
   "id": "24c34fa0-2bef-450c-906c-b33ccf9f1e79",
   "metadata": {},
   "outputs": [
    {
     "data": {
      "text/html": [
       "<div>\n",
       "<style scoped>\n",
       "    .dataframe tbody tr th:only-of-type {\n",
       "        vertical-align: middle;\n",
       "    }\n",
       "\n",
       "    .dataframe tbody tr th {\n",
       "        vertical-align: top;\n",
       "    }\n",
       "\n",
       "    .dataframe thead th {\n",
       "        text-align: right;\n",
       "    }\n",
       "</style>\n",
       "<table border=\"1\" class=\"dataframe\">\n",
       "  <thead>\n",
       "    <tr style=\"text-align: right;\">\n",
       "      <th></th>\n",
       "      <th>Unnamed: 0</th>\n",
       "      <th>Incident Name</th>\n",
       "      <th>County</th>\n",
       "      <th>Administrative Unit</th>\n",
       "      <th>Acres Burned</th>\n",
       "      <th>Crews Involved</th>\n",
       "      <th>Dozers</th>\n",
       "      <th>Engines</th>\n",
       "      <th>Fatalities</th>\n",
       "      <th>Helicopters</th>\n",
       "      <th>...</th>\n",
       "      <th>Structures Damaged</th>\n",
       "      <th>Structures Destroyed</th>\n",
       "      <th>Structures Threatened</th>\n",
       "      <th>Water Tenders</th>\n",
       "      <th>Fire Started</th>\n",
       "      <th>Fire Extinguished</th>\n",
       "      <th>Longitude</th>\n",
       "      <th>Latitude</th>\n",
       "      <th>Incident ID</th>\n",
       "      <th>Fire Duration</th>\n",
       "    </tr>\n",
       "  </thead>\n",
       "  <tbody>\n",
       "    <tr>\n",
       "      <th>48</th>\n",
       "      <td>48</td>\n",
       "      <td>Mount Fire</td>\n",
       "      <td>Lake</td>\n",
       "      <td>CAL FIRE Sanoma-Lake-Napa Unit</td>\n",
       "      <td>25.0</td>\n",
       "      <td>0.0</td>\n",
       "      <td>0.0</td>\n",
       "      <td>0.0</td>\n",
       "      <td>0.0</td>\n",
       "      <td>0.0</td>\n",
       "      <td>...</td>\n",
       "      <td>0.0</td>\n",
       "      <td>0.0</td>\n",
       "      <td>0.0</td>\n",
       "      <td>0.0</td>\n",
       "      <td>2013-06-20 14:29:00+00:00</td>\n",
       "      <td>2013-06-20 13:15:00+00:00</td>\n",
       "      <td>-122.817960</td>\n",
       "      <td>38.980580</td>\n",
       "      <td>d489b45e-dcba-4eaa-8bb5-6a23255562da</td>\n",
       "      <td>-1 days +22:46:00</td>\n",
       "    </tr>\n",
       "    <tr>\n",
       "      <th>108</th>\n",
       "      <td>108</td>\n",
       "      <td>Empire Fire</td>\n",
       "      <td>El Dorado</td>\n",
       "      <td>CAL FIRE Amador-El Dorado Unit</td>\n",
       "      <td>38.0</td>\n",
       "      <td>0.0</td>\n",
       "      <td>0.0</td>\n",
       "      <td>0.0</td>\n",
       "      <td>0.0</td>\n",
       "      <td>0.0</td>\n",
       "      <td>...</td>\n",
       "      <td>0.0</td>\n",
       "      <td>0.0</td>\n",
       "      <td>0.0</td>\n",
       "      <td>0.0</td>\n",
       "      <td>2013-08-24 14:54:00+00:00</td>\n",
       "      <td>2013-08-24 11:45:00+00:00</td>\n",
       "      <td>-120.847160</td>\n",
       "      <td>38.895550</td>\n",
       "      <td>fea7802f-ba70-450a-9ad1-96e2751293a9</td>\n",
       "      <td>-1 days +20:51:00</td>\n",
       "    </tr>\n",
       "    <tr>\n",
       "      <th>114</th>\n",
       "      <td>114</td>\n",
       "      <td>Rail Fire</td>\n",
       "      <td>Modoc</td>\n",
       "      <td>Modoc National Forest</td>\n",
       "      <td>68.0</td>\n",
       "      <td>0.0</td>\n",
       "      <td>0.0</td>\n",
       "      <td>0.0</td>\n",
       "      <td>0.0</td>\n",
       "      <td>0.0</td>\n",
       "      <td>...</td>\n",
       "      <td>0.0</td>\n",
       "      <td>0.0</td>\n",
       "      <td>0.0</td>\n",
       "      <td>0.0</td>\n",
       "      <td>2013-09-07 17:30:00+00:00</td>\n",
       "      <td>2013-09-05 21:00:00+00:00</td>\n",
       "      <td>-120.959000</td>\n",
       "      <td>41.569000</td>\n",
       "      <td>0875cf4e-9948-45ed-a76d-d74564319b49</td>\n",
       "      <td>-2 days +03:30:00</td>\n",
       "    </tr>\n",
       "    <tr>\n",
       "      <th>120</th>\n",
       "      <td>120</td>\n",
       "      <td>Lakeshore Fire</td>\n",
       "      <td>Lake</td>\n",
       "      <td>CAL FIRE Sonoma-Lake-Napa Unit</td>\n",
       "      <td>30.0</td>\n",
       "      <td>0.0</td>\n",
       "      <td>0.0</td>\n",
       "      <td>0.0</td>\n",
       "      <td>0.0</td>\n",
       "      <td>0.0</td>\n",
       "      <td>...</td>\n",
       "      <td>0.0</td>\n",
       "      <td>0.0</td>\n",
       "      <td>0.0</td>\n",
       "      <td>0.0</td>\n",
       "      <td>2013-09-15 19:45:00+00:00</td>\n",
       "      <td>2013-09-15 17:14:00+00:00</td>\n",
       "      <td>-122.683000</td>\n",
       "      <td>38.977700</td>\n",
       "      <td>51e00abb-53d0-4014-9224-2a853b1d6bcf</td>\n",
       "      <td>-1 days +21:29:00</td>\n",
       "    </tr>\n",
       "    <tr>\n",
       "      <th>165</th>\n",
       "      <td>165</td>\n",
       "      <td>Hall Fire</td>\n",
       "      <td>Fresno</td>\n",
       "      <td>CAL FIRE Fresno-Kings Unit</td>\n",
       "      <td>25.0</td>\n",
       "      <td>0.0</td>\n",
       "      <td>0.0</td>\n",
       "      <td>0.0</td>\n",
       "      <td>0.0</td>\n",
       "      <td>0.0</td>\n",
       "      <td>...</td>\n",
       "      <td>0.0</td>\n",
       "      <td>0.0</td>\n",
       "      <td>0.0</td>\n",
       "      <td>0.0</td>\n",
       "      <td>2014-06-11 07:30:00+00:00</td>\n",
       "      <td>2014-06-09 19:15:00+00:00</td>\n",
       "      <td>-119.241493</td>\n",
       "      <td>36.742747</td>\n",
       "      <td>ccc2ec2b-4941-4bbd-ae60-be6706d97f13</td>\n",
       "      <td>-2 days +11:45:00</td>\n",
       "    </tr>\n",
       "  </tbody>\n",
       "</table>\n",
       "<p>5 rows × 22 columns</p>\n",
       "</div>"
      ],
      "text/plain": [
       "     Unnamed: 0   Incident Name     County             Administrative Unit  \\\n",
       "48           48      Mount Fire       Lake  CAL FIRE Sanoma-Lake-Napa Unit   \n",
       "108         108     Empire Fire  El Dorado  CAL FIRE Amador-El Dorado Unit   \n",
       "114         114       Rail Fire      Modoc           Modoc National Forest   \n",
       "120         120  Lakeshore Fire       Lake  CAL FIRE Sonoma-Lake-Napa Unit   \n",
       "165         165       Hall Fire     Fresno      CAL FIRE Fresno-Kings Unit   \n",
       "\n",
       "     Acres Burned  Crews Involved  Dozers  Engines  Fatalities  Helicopters  \\\n",
       "48           25.0             0.0     0.0      0.0         0.0          0.0   \n",
       "108          38.0             0.0     0.0      0.0         0.0          0.0   \n",
       "114          68.0             0.0     0.0      0.0         0.0          0.0   \n",
       "120          30.0             0.0     0.0      0.0         0.0          0.0   \n",
       "165          25.0             0.0     0.0      0.0         0.0          0.0   \n",
       "\n",
       "     ...  Structures Damaged  Structures Destroyed  Structures Threatened  \\\n",
       "48   ...                 0.0                   0.0                    0.0   \n",
       "108  ...                 0.0                   0.0                    0.0   \n",
       "114  ...                 0.0                   0.0                    0.0   \n",
       "120  ...                 0.0                   0.0                    0.0   \n",
       "165  ...                 0.0                   0.0                    0.0   \n",
       "\n",
       "     Water Tenders              Fire Started         Fire Extinguished  \\\n",
       "48             0.0 2013-06-20 14:29:00+00:00 2013-06-20 13:15:00+00:00   \n",
       "108            0.0 2013-08-24 14:54:00+00:00 2013-08-24 11:45:00+00:00   \n",
       "114            0.0 2013-09-07 17:30:00+00:00 2013-09-05 21:00:00+00:00   \n",
       "120            0.0 2013-09-15 19:45:00+00:00 2013-09-15 17:14:00+00:00   \n",
       "165            0.0 2014-06-11 07:30:00+00:00 2014-06-09 19:15:00+00:00   \n",
       "\n",
       "      Longitude   Latitude                           Incident ID  \\\n",
       "48  -122.817960  38.980580  d489b45e-dcba-4eaa-8bb5-6a23255562da   \n",
       "108 -120.847160  38.895550  fea7802f-ba70-450a-9ad1-96e2751293a9   \n",
       "114 -120.959000  41.569000  0875cf4e-9948-45ed-a76d-d74564319b49   \n",
       "120 -122.683000  38.977700  51e00abb-53d0-4014-9224-2a853b1d6bcf   \n",
       "165 -119.241493  36.742747  ccc2ec2b-4941-4bbd-ae60-be6706d97f13   \n",
       "\n",
       "        Fire Duration  \n",
       "48  -1 days +22:46:00  \n",
       "108 -1 days +20:51:00  \n",
       "114 -2 days +03:30:00  \n",
       "120 -1 days +21:29:00  \n",
       "165 -2 days +11:45:00  \n",
       "\n",
       "[5 rows x 22 columns]"
      ]
     },
     "execution_count": 16,
     "metadata": {},
     "output_type": "execute_result"
    }
   ],
   "source": [
    "errortime.head()"
   ]
  },
  {
   "cell_type": "code",
   "execution_count": 17,
   "id": "fb0b1264-c2f7-4d74-aa7b-546d92668343",
   "metadata": {},
   "outputs": [],
   "source": [
    "complete_df = complete_df.drop(errortime.index)"
   ]
  },
  {
   "cell_type": "code",
   "execution_count": 18,
   "id": "1ef8ebc1-4fa1-465d-b0a8-73dc81438968",
   "metadata": {},
   "outputs": [
    {
     "data": {
      "text/plain": [
       "count                          2713\n",
       "mean     50 days 02:58:33.894213047\n",
       "std      78 days 13:39:39.562406181\n",
       "min                 0 days 00:00:00\n",
       "25%                 2 days 03:14:20\n",
       "50%                 3 days 08:57:09\n",
       "75%                89 days 21:37:00\n",
       "max               391 days 19:16:34\n",
       "Name: Fire Duration, dtype: object"
      ]
     },
     "execution_count": 18,
     "metadata": {},
     "output_type": "execute_result"
    }
   ],
   "source": [
    "complete_df['Fire Duration'].describe()"
   ]
  },
  {
   "cell_type": "markdown",
   "id": "26bc9384-82e0-407c-979d-443a93384ff9",
   "metadata": {},
   "source": [
    "##### The avg fire last 50 days 02:58:33\n",
    "##### The Maximum duration of a fire is 391 days 19:16:34"
   ]
  },
  {
   "cell_type": "code",
   "execution_count": null,
   "id": "2fedfa19-6b0e-4103-9101-081bdf04c1a1",
   "metadata": {},
   "outputs": [],
   "source": []
  },
  {
   "cell_type": "code",
   "execution_count": 20,
   "id": "1869c179-dd8f-4428-957f-f8ea0f6fb02a",
   "metadata": {},
   "outputs": [
    {
     "data": {
      "text/plain": [
       "<Axes: xlabel='Fire Duration'>"
      ]
     },
     "execution_count": 20,
     "metadata": {},
     "output_type": "execute_result"
    },
    {
     "data": {
      "image/png": "[encoded data removed]",
      "text/plain": [
       "<Figure size 640x480 with 1 Axes>"
      ]
     },
     "metadata": {},
     "output_type": "display_data"
    }
   ],
   "source": [
    "sns.boxplot(x=complete_df['Fire Duration'])"
   ]
  },
  {
   "cell_type": "code",
   "execution_count": 21,
   "id": "13f27ab8-7fbf-48e5-8cb4-eb1842333be1",
   "metadata": {},
   "outputs": [],
   "source": [
    "complete_df['Fire Duration Days']= complete_df['Fire Duration'].dt.days"
   ]
  },
  {
   "cell_type": "code",
   "execution_count": 22,
   "id": "17fa0f72-d350-494b-8d89-1ede2ec7522f",
   "metadata": {},
   "outputs": [],
   "source": [
    "complete_df['Acres Burned Log'] = np.log1p(complete_df['Acres Burned'])"
   ]
  },
  {
   "cell_type": "code",
   "execution_count": 24,
   "id": "f60010a5-9171-4dea-88f7-f2a9319292a7",
   "metadata": {},
   "outputs": [],
   "source": [
    "from scipy.stats import linregress\n",
    "\n",
    "def linear_regression_plot(x,y):\n",
    "\n",
    "    slope, intercept, r, p, std_err = linregress(x,y)\n",
    "\n",
    "    y_axis = list(map((lambda x_valus: slope * x_valus + intercept), x))\n",
    " \n",
    "    plt.plot(x, y_axis, color= 'blue')\n",
    " \n",
    "    equation = f\"y={slope:.2f}x + {intercept:.2f}\"\n",
    "\n",
    "    plt.text(min(x),min(y), equation, fontsize= 15, color='blue', verticalalignment='top')\n",
    " \n",
    "    print(f'The r^2 value is: {np.square(r)}')"
   ]
  },
  {
   "cell_type": "code",
   "execution_count": 180,
   "id": "fd75fa6f-cafb-4479-8f3b-47241e9435a0",
   "metadata": {},
   "outputs": [
    {
     "name": "stdout",
     "output_type": "stream",
     "text": [
      "The r^2 value is: 0.14022282587532023\n"
     ]
    },
    {
     "data": {
      "text/plain": [
       "<matplotlib.collections.PathCollection at 0x21701bffc20>"
      ]
     },
     "execution_count": 180,
     "metadata": {},
     "output_type": "execute_result"
    },
    {
     "data": {
      "image/png": "[encoded data removed]",
      "text/plain": [
       "<Figure size 640x480 with 1 Axes>"
      ]
     },
     "metadata": {},
     "output_type": "display_data"
    }
   ],
   "source": [
    "sample1= complete_df[complete_df['Injuries'] != 0]\n",
    "x=sample1['Injuries']\n",
    "\n",
    "y=sample1['Acres Burned Log'] \n",
    " \n",
    "linear_regression_plot(x,y) \n",
    "\n",
    "plt.scatter(x,y, marker='o', edgecolors='black')"
   ]
  },
  {
   "cell_type": "code",
   "execution_count": 182,
   "id": "f1ce17bd-34da-4d81-8673-dbbb3b04b70a",
   "metadata": {},
   "outputs": [
    {
     "name": "stdout",
     "output_type": "stream",
     "text": [
      "The r^2 value is: 0.04979701177694232\n"
     ]
    },
    {
     "data": {
      "text/plain": [
       "<matplotlib.collections.PathCollection at 0x21701e2c6e0>"
      ]
     },
     "execution_count": 182,
     "metadata": {},
     "output_type": "execute_result"
    },
    {
     "data": {
      "image/png": "[encoded data removed]",
      "text/plain": [
       "<Figure size 640x480 with 1 Axes>"
      ]
     },
     "metadata": {},
     "output_type": "display_data"
    }
   ],
   "source": [
    "sample2= complete_df[complete_df['Helicopters'] != 0]\n",
    "x=sample2['Helicopters']\n",
    "\n",
    "y=sample2['Acres Burned Log'] \n",
    " \n",
    "linear_regression_plot(x,y) \n",
    "\n",
    "plt.scatter(x,y, marker='o', edgecolors='black')"
   ]
  },
  {
   "cell_type": "code",
   "execution_count": 186,
   "id": "03d7e286-9284-48f4-9b36-e3e07efd471e",
   "metadata": {},
   "outputs": [
    {
     "name": "stdout",
     "output_type": "stream",
     "text": [
      "The r^2 value is: 0.12383786041548382\n"
     ]
    },
    {
     "data": {
      "text/plain": [
       "<matplotlib.collections.PathCollection at 0x21701ccfc20>"
      ]
     },
     "execution_count": 186,
     "metadata": {},
     "output_type": "execute_result"
    },
    {
     "data": {
      "image/png": "[encoded data removed]",
      "text/plain": [
       "<Figure size 640x480 with 1 Axes>"
      ]
     },
     "metadata": {},
     "output_type": "display_data"
    }
   ],
   "source": [
    "sample3= complete_df[complete_df['Water Tenders'] != 0]\n",
    "x=sample3['Water Tenders']\n",
    "\n",
    "y=sample3['Acres Burned Log'] \n",
    " \n",
    "linear_regression_plot(x,y) \n",
    "\n",
    "plt.scatter(x,y, marker='o', edgecolors='black')"
   ]
  },
  {
   "cell_type": "code",
   "execution_count": null,
   "id": "ccf5ae7a-5d23-4108-b197-bf49327f44af",
   "metadata": {},
   "outputs": [],
   "source": []
  }
 ],
 "metadata": {
  "kernelspec": {
   "display_name": "Python [conda env:base] *",
   "language": "python",
   "name": "conda-base-py"
  },
  "language_info": {
   "codemirror_mode": {
    "name": "ipython",
    "version": 3
   },
   "file_extension": ".py",
   "mimetype": "text/x-python",
   "name": "python",
   "nbconvert_exporter": "python",
   "pygments_lexer": "ipython3",
   "version": "3.12.7"
  }
 },
 "nbformat": 4,
 "nbformat_minor": 5
}
