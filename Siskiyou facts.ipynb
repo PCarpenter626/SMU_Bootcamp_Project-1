{
 "cells": [
  {
   "cell_type": "markdown",
   "id": "d9c5d397-4bc9-4238-a667-7f4655dcdf16",
   "metadata": {},
   "source": [
    "# California Fire Facts"
   ]
  },
  {
   "cell_type": "markdown",
   "id": "80d95bfb-71bd-49d1-a8b0-e6f50a5363b9",
   "metadata": {},
   "source": [
    "## Hypothesis\n",
    "- Why does Siskiyou County experience the largest area of wildfires compared to other counties?\n",
    "    - Other counties with large area of wildfires include: \n",
    "        -  Riverside, Los Angeles, San Diego, San Luis Obispo, Butte, Fresno, San Bernadino, Kern, Tulare"
   ]
  },
  {
   "cell_type": "markdown",
   "id": "6cb9c1f5-d7e2-49df-af16-fe20c34867ab",
   "metadata": {},
   "source": [
    "## California has had decades of fire suppression and climate change which drastically incresed the wildfire size and intesnity throughout the state."
   ]
  },
  {
   "cell_type": "markdown",
   "id": "6cc48d30-0e33-4dbf-b431-bdd686c19a05",
   "metadata": {},
   "source": [
    " - 2020 fire season being a record breaking season\n",
    " - 5 of the 6 California largest fires burned at the same time\n",
    " - Over 4 million acres burned across the the state\n"
   ]
  },
  {
   "cell_type": "markdown",
   "id": "4891cc88-1486-494a-ae35-766ab0325cce",
   "metadata": {},
   "source": [
    "### Siskiyou Co is prone to wildfires due to the combination of the following factors:"
   ]
  },
  {
   "cell_type": "markdown",
   "id": "c088969d-e766-4103-a6af-c3881a755a4d",
   "metadata": {},
   "source": [
    "- Human caused climate change: Incresed the likelihood and intensity of hot, dry and windy conditions\n",
    "- Siskiyou county has  Fire Exclusion policies, which are land management practices where all fires, regardless of cause are actively suppresed and prevented from occurring in a specific area.\n",
    "   - Fire exclusion policies are often used in forestry to protect against potential damange against wildfires\n",
    "       - This does have some negative ecological consequences by allowing excessive fuel buildup over time"
   ]
  },
  {
   "cell_type": "markdown",
   "id": "c594b439-8e16-4bf6-8838-497ac6295ff6",
   "metadata": {},
   "source": [
    "    - Geologically, it is the northern most county in California, on the boarder of Oregon\n",
    "    - Has more wildlife and forestry; Can be a wetter climate due to rain\n",
    "    - 5th largest county in California\n",
    "    - 60% of the land in Siskiyou county is managed by Federal and State goverment agencies\n",
    "    - Large portions of Siskiyou co lies on volcanic land."
   ]
  },
  {
   "cell_type": "code",
   "execution_count": null,
   "id": "6bc72a59-90c7-408c-ac7d-e53dbf4019b8",
   "metadata": {},
   "outputs": [],
   "source": []
  },
  {
   "cell_type": "markdown",
   "id": "39f4c780-2076-4fd6-8822-56015bf036c9",
   "metadata": {},
   "source": [
    "#### Sites Used"
   ]
  },
  {
   "cell_type": "markdown",
   "id": "fbda8493-98f3-482e-9065-d08187443a8c",
   "metadata": {},
   "source": [
    "- https://www.co.siskiyou.ca.us/administration/page/about-siskiyou-county#:~:text=Geographically%2C%20it%20has%20considerable%20vertical,unaffected%20by%20ancient%20glacial%20flooding.\n",
    "\n",
    "- https://www.google.com/search?q=siskiyou+county+wildfires&sca_esv=6f8e34bd27418b24&sxsrf=AHTn8zotr1DWsdgIGV5gf24IvtrNVRxvjg%3A1739058549649&ei=de2nZ-SsJ4jKp84P6pS1qAw&ved=0ahUKEwiku-H4obWLAxUI5ckDHWpKDcUQ4dUDCBA&uact=5&oq=siskiyou+county+wildfires&gs_lp=Egxnd3Mtd2l6LXNlcnAiGXNpc2tpeW91IGNvdW50eSB3aWxkZmlyZXMyBhAAGBYYHjIGEAAYFhgeSJ4VULYHWI8ScAJ4AJABAZgBjwKgAbUNqgEFMS41LjS4AQPIAQD4AQGYAgugAukLwgIIEAAYgAQYsAPCAg4QABiABBiwAxiGAxiKBcICERAAGIAEGJECGLEDGIMBGIoFwgILEAAYgAQYkQIYigXCAhAQLhiABBgUGIcCGMcBGK8BwgIFEAAYgATCAgoQABiABBgUGIcCwgILEC4YgAQYxwEYrwHCAgsQABiABBiGAxiKBZgDAIgGAZAGBJIHBTIuNi4zoAfGJg&sclient=gws-wiz-serp\n",
    "\n",
    "- https://www.volcaniclegacybyway.org/volcanic-highlights/#:~:text=Medicine%20Lake%20Volcano%20is%20a,made%20of%20obsidian%20to%20explore."
   ]
  },
  {
   "cell_type": "code",
   "execution_count": null,
   "id": "5b744fed-beda-4e45-ab4a-5e9360728104",
   "metadata": {},
   "outputs": [],
   "source": []
  }
 ],
 "metadata": {
  "kernelspec": {
   "display_name": "Python [conda env:base] *",
   "language": "python",
   "name": "conda-base-py"
  },
  "language_info": {
   "codemirror_mode": {
    "name": "ipython",
    "version": 3
   },
   "file_extension": ".py",
   "mimetype": "text/x-python",
   "name": "python",
   "nbconvert_exporter": "python",
   "pygments_lexer": "ipython3",
   "version": "3.12.7"
  }
 },
 "nbformat": 4,
 "nbformat_minor": 5
}
