{
 "cells": [
  {
   "cell_type": "code",
   "execution_count": 103,
   "id": "5f2f3784-7d0b-4c1d-963a-e0569f7e9bb5",
   "metadata": {},
   "outputs": [],
   "source": [
    "import pandas as pd\n",
    "import numpy as np\n",
    "import os\n",
    "import seaborn as sns\n",
    "import matplotlib.pyplot as plt"
   ]
  },
  {
   "cell_type": "code",
   "execution_count": 14,
   "id": "08894c5d-a86b-43e9-8299-39425093af6e",
   "metadata": {},
   "outputs": [
    {
     "name": "stdout",
     "output_type": "stream",
     "text": [
      "/Users/sergioguerrero/Desktop/Project 1\n"
     ]
    }
   ],
   "source": [
    "print(os.getcwd())"
   ]
  },
  {
   "cell_type": "code",
   "execution_count": 85,
   "id": "25b925af-2653-4355-8269-2704381e6314",
   "metadata": {},
   "outputs": [],
   "source": [
    "df_sg = pd.read_csv(\"california_wildfire_data_cleaned-Copy1.csv\")"
   ]
  },
  {
   "cell_type": "code",
   "execution_count": 105,
   "id": "456f71d5-37f1-473f-92a8-b0e74129f3e8",
   "metadata": {},
   "outputs": [],
   "source": [
    "df_sg = df_sg[[\"Fatalities\",\"Acres Burned\"]]"
   ]
  },
  {
   "cell_type": "code",
   "execution_count": 113,
   "id": "7855ee40-57e8-4932-9215-e6a46e9f95dd",
   "metadata": {},
   "outputs": [],
   "source": [
    "df_sg = df_sg[df_sg[\"Fatalities\"] !=0]"
   ]
  },
  {
   "cell_type": "code",
   "execution_count": 115,
   "id": "63dba481-6eb6-4689-99e9-a4ae85c1395c",
   "metadata": {},
   "outputs": [
    {
     "data": {
      "text/html": [
       "<div>\n",
       "<style scoped>\n",
       "    .dataframe tbody tr th:only-of-type {\n",
       "        vertical-align: middle;\n",
       "    }\n",
       "\n",
       "    .dataframe tbody tr th {\n",
       "        vertical-align: top;\n",
       "    }\n",
       "\n",
       "    .dataframe thead th {\n",
       "        text-align: right;\n",
       "    }\n",
       "</style>\n",
       "<table border=\"1\" class=\"dataframe\">\n",
       "  <thead>\n",
       "    <tr style=\"text-align: right;\">\n",
       "      <th></th>\n",
       "      <th>Fatalities</th>\n",
       "      <th>Acres Burned</th>\n",
       "    </tr>\n",
       "  </thead>\n",
       "  <tbody>\n",
       "    <tr>\n",
       "      <th>308</th>\n",
       "      <td>1.0</td>\n",
       "      <td>1086.0</td>\n",
       "    </tr>\n",
       "    <tr>\n",
       "      <th>837</th>\n",
       "      <td>22.0</td>\n",
       "      <td>36807.0</td>\n",
       "    </tr>\n",
       "    <tr>\n",
       "      <th>838</th>\n",
       "      <td>4.0</td>\n",
       "      <td>9989.0</td>\n",
       "    </tr>\n",
       "    <tr>\n",
       "      <th>839</th>\n",
       "      <td>9.0</td>\n",
       "      <td>36523.0</td>\n",
       "    </tr>\n",
       "    <tr>\n",
       "      <th>850</th>\n",
       "      <td>6.0</td>\n",
       "      <td>51624.0</td>\n",
       "    </tr>\n",
       "    <tr>\n",
       "      <th>851</th>\n",
       "      <td>3.0</td>\n",
       "      <td>44573.0</td>\n",
       "    </tr>\n",
       "    <tr>\n",
       "      <th>1025</th>\n",
       "      <td>1.0</td>\n",
       "      <td>38008.0</td>\n",
       "    </tr>\n",
       "    <tr>\n",
       "      <th>1081</th>\n",
       "      <td>3.0</td>\n",
       "      <td>229651.0</td>\n",
       "    </tr>\n",
       "    <tr>\n",
       "      <th>1090</th>\n",
       "      <td>1.0</td>\n",
       "      <td>410203.0</td>\n",
       "    </tr>\n",
       "    <tr>\n",
       "      <th>1189</th>\n",
       "      <td>85.0</td>\n",
       "      <td>153336.0</td>\n",
       "    </tr>\n",
       "    <tr>\n",
       "      <th>1194</th>\n",
       "      <td>3.0</td>\n",
       "      <td>96949.0</td>\n",
       "    </tr>\n",
       "    <tr>\n",
       "      <th>1420</th>\n",
       "      <td>2.0</td>\n",
       "      <td>1011.0</td>\n",
       "    </tr>\n",
       "    <tr>\n",
       "      <th>1423</th>\n",
       "      <td>1.0</td>\n",
       "      <td>8799.0</td>\n",
       "    </tr>\n",
       "  </tbody>\n",
       "</table>\n",
       "</div>"
      ],
      "text/plain": [
       "      Fatalities  Acres Burned\n",
       "308          1.0        1086.0\n",
       "837         22.0       36807.0\n",
       "838          4.0        9989.0\n",
       "839          9.0       36523.0\n",
       "850          6.0       51624.0\n",
       "851          3.0       44573.0\n",
       "1025         1.0       38008.0\n",
       "1081         3.0      229651.0\n",
       "1090         1.0      410203.0\n",
       "1189        85.0      153336.0\n",
       "1194         3.0       96949.0\n",
       "1420         2.0        1011.0\n",
       "1423         1.0        8799.0"
      ]
     },
     "execution_count": 115,
     "metadata": {},
     "output_type": "execute_result"
    }
   ],
   "source": [
    "df_sg"
   ]
  },
  {
   "cell_type": "code",
   "execution_count": 133,
   "id": "f39b4e0b-793e-4db9-9098-0cd50ed6ebd6",
   "metadata": {},
   "outputs": [
    {
     "data": {
      "text/html": [
       "<div>\n",
       "<style scoped>\n",
       "    .dataframe tbody tr th:only-of-type {\n",
       "        vertical-align: middle;\n",
       "    }\n",
       "\n",
       "    .dataframe tbody tr th {\n",
       "        vertical-align: top;\n",
       "    }\n",
       "\n",
       "    .dataframe thead th {\n",
       "        text-align: right;\n",
       "    }\n",
       "</style>\n",
       "<table border=\"1\" class=\"dataframe\">\n",
       "  <thead>\n",
       "    <tr style=\"text-align: right;\">\n",
       "      <th></th>\n",
       "      <th>Fatalities</th>\n",
       "      <th>Acres Burned</th>\n",
       "    </tr>\n",
       "  </thead>\n",
       "  <tbody>\n",
       "    <tr>\n",
       "      <th>1420</th>\n",
       "      <td>2.0</td>\n",
       "      <td>1011.0</td>\n",
       "    </tr>\n",
       "    <tr>\n",
       "      <th>308</th>\n",
       "      <td>1.0</td>\n",
       "      <td>1086.0</td>\n",
       "    </tr>\n",
       "    <tr>\n",
       "      <th>1423</th>\n",
       "      <td>1.0</td>\n",
       "      <td>8799.0</td>\n",
       "    </tr>\n",
       "    <tr>\n",
       "      <th>838</th>\n",
       "      <td>4.0</td>\n",
       "      <td>9989.0</td>\n",
       "    </tr>\n",
       "    <tr>\n",
       "      <th>839</th>\n",
       "      <td>9.0</td>\n",
       "      <td>36523.0</td>\n",
       "    </tr>\n",
       "    <tr>\n",
       "      <th>837</th>\n",
       "      <td>22.0</td>\n",
       "      <td>36807.0</td>\n",
       "    </tr>\n",
       "    <tr>\n",
       "      <th>1025</th>\n",
       "      <td>1.0</td>\n",
       "      <td>38008.0</td>\n",
       "    </tr>\n",
       "    <tr>\n",
       "      <th>851</th>\n",
       "      <td>3.0</td>\n",
       "      <td>44573.0</td>\n",
       "    </tr>\n",
       "    <tr>\n",
       "      <th>850</th>\n",
       "      <td>6.0</td>\n",
       "      <td>51624.0</td>\n",
       "    </tr>\n",
       "    <tr>\n",
       "      <th>1194</th>\n",
       "      <td>3.0</td>\n",
       "      <td>96949.0</td>\n",
       "    </tr>\n",
       "    <tr>\n",
       "      <th>1189</th>\n",
       "      <td>85.0</td>\n",
       "      <td>153336.0</td>\n",
       "    </tr>\n",
       "    <tr>\n",
       "      <th>1081</th>\n",
       "      <td>3.0</td>\n",
       "      <td>229651.0</td>\n",
       "    </tr>\n",
       "    <tr>\n",
       "      <th>1090</th>\n",
       "      <td>1.0</td>\n",
       "      <td>410203.0</td>\n",
       "    </tr>\n",
       "  </tbody>\n",
       "</table>\n",
       "</div>"
      ],
      "text/plain": [
       "      Fatalities  Acres Burned\n",
       "1420         2.0        1011.0\n",
       "308          1.0        1086.0\n",
       "1423         1.0        8799.0\n",
       "838          4.0        9989.0\n",
       "839          9.0       36523.0\n",
       "837         22.0       36807.0\n",
       "1025         1.0       38008.0\n",
       "851          3.0       44573.0\n",
       "850          6.0       51624.0\n",
       "1194         3.0       96949.0\n",
       "1189        85.0      153336.0\n",
       "1081         3.0      229651.0\n",
       "1090         1.0      410203.0"
      ]
     },
     "execution_count": 133,
     "metadata": {},
     "output_type": "execute_result"
    }
   ],
   "source": [
    "df_sg.sort_values(by=[\"Acres Burned\"], ascending=True)"
   ]
  },
  {
   "cell_type": "code",
   "execution_count": 167,
   "id": "40115df3-51f6-44e1-b1fb-248e6adca717",
   "metadata": {},
   "outputs": [],
   "source": [
    "y = [ 1011.0, 1086.0, 8799.0, 9989.0, 36523.0, 36807.0, 38008.0, 44573.0, 51624.0, 96949.0, 153336.0, 229651.0, 410203.0]\n",
    "\n",
    "x = [2, 1, 1, 4, 9, 22, 1, 3, 6, 3, 85, 3, 1]"
   ]
  },
  {
   "cell_type": "code",
   "execution_count": 169,
   "id": "75b318f6-187f-4b64-9925-dedcd435131d",
   "metadata": {},
   "outputs": [
    {
     "data": {
      "image/png": "[encoded data removed]",
      "text/plain": [
       "<Figure size 640x480 with 1 Axes>"
      ]
     },
     "metadata": {},
     "output_type": "display_data"
    }
   ],
   "source": [
    "plt.scatter(x, y)\n",
    "plt.xlabel('X-axis Label')\n",
    "plt.ylabel('Y-axis Label')\n",
    "plt.title('Scatter Plot Example')\n",
    "plt.show()"
   ]
  },
  {
   "cell_type": "code",
   "execution_count": 73,
   "id": "6b8c0bad-a0d3-4e87-a4a8-66f90ea814f4",
   "metadata": {},
   "outputs": [],
   "source": [
    "df = pd.read_csv('./california_wildfire_data_cleaned-Copy1.csv')"
   ]
  },
  {
   "cell_type": "code",
   "execution_count": 75,
   "id": "bd0dcbab-34f7-438f-8784-238ddc0d31f4",
   "metadata": {},
   "outputs": [
    {
     "data": {
      "text/html": [
       "<div>\n",
       "<style scoped>\n",
       "    .dataframe tbody tr th:only-of-type {\n",
       "        vertical-align: middle;\n",
       "    }\n",
       "\n",
       "    .dataframe tbody tr th {\n",
       "        vertical-align: top;\n",
       "    }\n",
       "\n",
       "    .dataframe thead th {\n",
       "        text-align: right;\n",
       "    }\n",
       "</style>\n",
       "<table border=\"1\" class=\"dataframe\">\n",
       "  <thead>\n",
       "    <tr style=\"text-align: right;\">\n",
       "      <th></th>\n",
       "      <th>Incident Name</th>\n",
       "      <th>County</th>\n",
       "      <th>Acres Burned</th>\n",
       "      <th>Fire Started</th>\n",
       "      <th>Fire Extinguished</th>\n",
       "    </tr>\n",
       "  </thead>\n",
       "  <tbody>\n",
       "    <tr>\n",
       "      <th>0</th>\n",
       "      <td>River Fire</td>\n",
       "      <td>Inyo</td>\n",
       "      <td>407.0</td>\n",
       "      <td>2013-02-24T08:16:00Z</td>\n",
       "      <td>2013-02-28T20:00:00Z</td>\n",
       "    </tr>\n",
       "    <tr>\n",
       "      <th>1</th>\n",
       "      <td>Fawnskin Fire</td>\n",
       "      <td>San Bernardino</td>\n",
       "      <td>30.0</td>\n",
       "      <td>2013-04-20T17:30:00Z</td>\n",
       "      <td>2013-04-22T09:00:00Z</td>\n",
       "    </tr>\n",
       "    <tr>\n",
       "      <th>2</th>\n",
       "      <td>Gold Fire</td>\n",
       "      <td>Madera</td>\n",
       "      <td>274.0</td>\n",
       "      <td>2013-04-30T12:59:00Z</td>\n",
       "      <td>2013-05-01T07:00:00Z</td>\n",
       "    </tr>\n",
       "  </tbody>\n",
       "</table>\n",
       "</div>"
      ],
      "text/plain": [
       "   Incident Name          County  Acres Burned          Fire Started  \\\n",
       "0     River Fire            Inyo         407.0  2013-02-24T08:16:00Z   \n",
       "1  Fawnskin Fire  San Bernardino          30.0  2013-04-20T17:30:00Z   \n",
       "2      Gold Fire          Madera         274.0  2013-04-30T12:59:00Z   \n",
       "\n",
       "      Fire Extinguished  \n",
       "0  2013-02-28T20:00:00Z  \n",
       "1  2013-04-22T09:00:00Z  \n",
       "2  2013-05-01T07:00:00Z  "
      ]
     },
     "execution_count": 75,
     "metadata": {},
     "output_type": "execute_result"
    }
   ],
   "source": [
    "df= df[['Incident Name','County','Acres Burned','Fire Started','Fire Extinguished']]\n",
    "df.head(3)"
   ]
  },
  {
   "cell_type": "code",
   "execution_count": 77,
   "id": "fe3834ef-9ddf-469e-afc1-a954cca55a16",
   "metadata": {},
   "outputs": [
    {
     "data": {
      "text/html": [
       "<div>\n",
       "<style scoped>\n",
       "    .dataframe tbody tr th:only-of-type {\n",
       "        vertical-align: middle;\n",
       "    }\n",
       "\n",
       "    .dataframe tbody tr th {\n",
       "        vertical-align: top;\n",
       "    }\n",
       "\n",
       "    .dataframe thead th {\n",
       "        text-align: right;\n",
       "    }\n",
       "</style>\n",
       "<table border=\"1\" class=\"dataframe\">\n",
       "  <thead>\n",
       "    <tr style=\"text-align: right;\">\n",
       "      <th></th>\n",
       "      <th>Incident Name</th>\n",
       "      <th>County</th>\n",
       "      <th>Acres Burned</th>\n",
       "      <th>Fire Started</th>\n",
       "      <th>Fire Extinguished</th>\n",
       "      <th>Acres Burnned Size</th>\n",
       "    </tr>\n",
       "  </thead>\n",
       "  <tbody>\n",
       "    <tr>\n",
       "      <th>0</th>\n",
       "      <td>River Fire</td>\n",
       "      <td>Inyo</td>\n",
       "      <td>407.0</td>\n",
       "      <td>2013-02-24T08:16:00Z</td>\n",
       "      <td>2013-02-28T20:00:00Z</td>\n",
       "      <td>Small</td>\n",
       "    </tr>\n",
       "    <tr>\n",
       "      <th>1</th>\n",
       "      <td>Fawnskin Fire</td>\n",
       "      <td>San Bernardino</td>\n",
       "      <td>30.0</td>\n",
       "      <td>2013-04-20T17:30:00Z</td>\n",
       "      <td>2013-04-22T09:00:00Z</td>\n",
       "      <td>Small</td>\n",
       "    </tr>\n",
       "    <tr>\n",
       "      <th>2</th>\n",
       "      <td>Gold Fire</td>\n",
       "      <td>Madera</td>\n",
       "      <td>274.0</td>\n",
       "      <td>2013-04-30T12:59:00Z</td>\n",
       "      <td>2013-05-01T07:00:00Z</td>\n",
       "      <td>Small</td>\n",
       "    </tr>\n",
       "  </tbody>\n",
       "</table>\n",
       "</div>"
      ],
      "text/plain": [
       "   Incident Name          County  Acres Burned          Fire Started  \\\n",
       "0     River Fire            Inyo         407.0  2013-02-24T08:16:00Z   \n",
       "1  Fawnskin Fire  San Bernardino          30.0  2013-04-20T17:30:00Z   \n",
       "2      Gold Fire          Madera         274.0  2013-04-30T12:59:00Z   \n",
       "\n",
       "      Fire Extinguished Acres Burnned Size  \n",
       "0  2013-02-28T20:00:00Z              Small  \n",
       "1  2013-04-22T09:00:00Z              Small  \n",
       "2  2013-05-01T07:00:00Z              Small  "
      ]
     },
     "execution_count": 77,
     "metadata": {},
     "output_type": "execute_result"
    }
   ],
   "source": [
    "bins = [0, 1000, 50000, df['Acres Burned'].max()]\n",
    "labels = ['Small', 'Medium', 'Large']\n",
    "df['Acres Burnned Size'] = pd.cut(df['Acres Burned'], labels=labels, bins= bins)\n",
    "df.head(3)\n"
   ]
  },
  {
   "cell_type": "code",
   "execution_count": 79,
   "id": "673d98dc-4122-4f16-9ec0-27dac37321aa",
   "metadata": {},
   "outputs": [],
   "source": [
    "df['Year Started'] = pd.to_datetime(df['Fire Started']).dt.year\n",
    "df = df[df['Year Started'] != 2025 ]"
   ]
  },
  {
   "cell_type": "code",
   "execution_count": 81,
   "id": "ecd94d43-333d-4a11-81e6-a8d9ba1abf7d",
   "metadata": {},
   "outputs": [
    {
     "data": {
      "text/html": [
       "<div>\n",
       "<style scoped>\n",
       "    .dataframe tbody tr th:only-of-type {\n",
       "        vertical-align: middle;\n",
       "    }\n",
       "\n",
       "    .dataframe tbody tr th {\n",
       "        vertical-align: top;\n",
       "    }\n",
       "\n",
       "    .dataframe thead th {\n",
       "        text-align: right;\n",
       "    }\n",
       "</style>\n",
       "<table border=\"1\" class=\"dataframe\">\n",
       "  <thead>\n",
       "    <tr style=\"text-align: right;\">\n",
       "      <th></th>\n",
       "      <th>mean</th>\n",
       "      <th>median</th>\n",
       "      <th>max</th>\n",
       "      <th>min</th>\n",
       "      <th>std</th>\n",
       "    </tr>\n",
       "    <tr>\n",
       "      <th>Acres Burnned Size</th>\n",
       "      <th></th>\n",
       "      <th></th>\n",
       "      <th></th>\n",
       "      <th></th>\n",
       "      <th></th>\n",
       "    </tr>\n",
       "  </thead>\n",
       "  <tbody>\n",
       "    <tr>\n",
       "      <th>Small</th>\n",
       "      <td>136.623965</td>\n",
       "      <td>61.0</td>\n",
       "      <td>1000.0</td>\n",
       "      <td>2.0</td>\n",
       "      <td>183.534249</td>\n",
       "    </tr>\n",
       "    <tr>\n",
       "      <th>Medium</th>\n",
       "      <td>8166.408269</td>\n",
       "      <td>3674.0</td>\n",
       "      <td>48920.0</td>\n",
       "      <td>1010.0</td>\n",
       "      <td>10704.944797</td>\n",
       "    </tr>\n",
       "    <tr>\n",
       "      <th>Large</th>\n",
       "      <td>181571.630435</td>\n",
       "      <td>96004.0</td>\n",
       "      <td>1032648.0</td>\n",
       "      <td>50198.0</td>\n",
       "      <td>205664.810618</td>\n",
       "    </tr>\n",
       "  </tbody>\n",
       "</table>\n",
       "</div>"
      ],
      "text/plain": [
       "                             mean   median        max      min            std\n",
       "Acres Burnned Size                                                           \n",
       "Small                  136.623965     61.0     1000.0      2.0     183.534249\n",
       "Medium                8166.408269   3674.0    48920.0   1010.0   10704.944797\n",
       "Large               181571.630435  96004.0  1032648.0  50198.0  205664.810618"
      ]
     },
     "execution_count": 81,
     "metadata": {},
     "output_type": "execute_result"
    }
   ],
   "source": [
    "acres_size_agg= df.groupby('Acres Burnned Size',observed=False)['Acres Burned'].agg(['mean', 'median', 'max','min', 'std'])\n",
    "acres_size_agg"
   ]
  },
  {
   "cell_type": "code",
   "execution_count": 83,
   "id": "369f0dca-fcca-4304-9db4-6bbef1f46b49",
   "metadata": {},
   "outputs": [],
   "source": [
    "grouped_df= df.groupby(['Year Started', 'Acres Burnned Size'],observed=False)['Acres Burnned Size'].size().reset_index(name='Count')\n"
   ]
  },
  {
   "cell_type": "code",
   "execution_count": 61,
   "id": "81cac735-71d3-49fd-9840-38063362f587",
   "metadata": {},
   "outputs": [
    {
     "data": {
      "image/png": "[encoded data removed]",
      "text/plain": [
       "<Figure size 1400x600 with 1 Axes>"
      ]
     },
     "metadata": {},
     "output_type": "display_data"
    }
   ],
   "source": [
    "plt.figure(figsize=(14, 6))\n",
    "sns.barplot(data=grouped_df, x='Year Started', y='Count', hue='Acres Burnned Size')\n",
    "plt.xlabel('Year Fire Started')\n",
    "plt.ylabel('Number of Wildfires')\n",
    "plt.title('Wildfire Count by Acres Burned Size and Year Fire Started')\n",
    "plt.legend(title='Acres Burned Size')\n",
    "plt.xticks(rotation=45)\n",
    "plt.grid(axis='y', linestyle='--', alpha=0.7)\n",
    "plt.show()\n",
    "\n"
   ]
  },
  {
   "cell_type": "code",
   "execution_count": null,
   "id": "fdcf2728-116f-4350-9161-e455a33918bc",
   "metadata": {},
   "outputs": [],
   "source": []
  }
 ],
 "metadata": {
  "kernelspec": {
   "display_name": "Python [conda env:base] *",
   "language": "python",
   "name": "conda-base-py"
  },
  "language_info": {
   "codemirror_mode": {
    "name": "ipython",
    "version": 3
   },
   "file_extension": ".py",
   "mimetype": "text/x-python",
   "name": "python",
   "nbconvert_exporter": "python",
   "pygments_lexer": "ipython3",
   "version": "3.12.7"
  }
 },
 "nbformat": 4,
 "nbformat_minor": 5
}
