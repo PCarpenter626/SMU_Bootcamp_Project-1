{
 "cells": [
  {
   "cell_type": "code",
   "execution_count": 2,
   "id": "bf1591b3-60a8-4154-917c-1b698dd6af50",
   "metadata": {},
   "outputs": [],
   "source": [
    "from dotenv import load_dotenv  \n",
    "import os"
   ]
  },
  {
   "cell_type": "code",
   "execution_count": 3,
   "id": "aa8e2467-3728-4c11-9cd3-2e6b0c018e11",
   "metadata": {},
   "outputs": [],
   "source": [
    "\n",
    "\n",
    "map_box_api = os.getenv(\"MAPBOX_API_KEY\")  \n",
    "# px.set_mapbox_access_token(map_box_api)"
   ]
  },
  {
   "cell_type": "code",
   "execution_count": 4,
   "id": "d68af219-e015-4982-8e03-1e00f9c28d2f",
   "metadata": {},
   "outputs": [
    {
     "data": {
      "text/plain": [
       "str"
      ]
     },
     "execution_count": 4,
     "metadata": {},
     "output_type": "execute_result"
    }
   ],
   "source": [
    "type(map_box_api)"
   ]
  },
  {
   "cell_type": "code",
   "execution_count": null,
   "id": "8cedd6de-9537-4305-8808-c8117ed22de4",
   "metadata": {},
   "outputs": [],
   "source": []
  }
 ],
 "metadata": {
  "kernelspec": {
   "display_name": "base",
   "language": "python",
   "name": "python3"
  },
  "language_info": {
   "codemirror_mode": {
    "name": "ipython",
    "version": 3
   },
   "file_extension": ".py",
   "mimetype": "text/x-python",
   "name": "python",
   "nbconvert_exporter": "python",
   "pygments_lexer": "ipython3",
   "version": "3.12.7"
  }
 },
 "nbformat": 4,
 "nbformat_minor": 5
}
